{
 "cells": [
  {
   "cell_type": "markdown",
   "metadata": {
    "toc": true
   },
   "source": [
    "<h1>Table of Contents<span class=\"tocSkip\"></span></h1>\n",
    "<div class=\"toc\"><ul class=\"toc-item\"><li><span><a href=\"#Assigning-the-function\" data-toc-modified-id=\"Assigning-the-function-1\"><span class=\"toc-item-num\">1&nbsp;&nbsp;</span>Assigning the function</a></span></li><li><span><a href=\"#Passing-the-function-as-argument\" data-toc-modified-id=\"Passing-the-function-as-argument-2\"><span class=\"toc-item-num\">2&nbsp;&nbsp;</span>Passing the function as argument</a></span></li><li><span><a href=\"#Returning-function-from-another-function\" data-toc-modified-id=\"Returning-function-from-another-function-3\"><span class=\"toc-item-num\">3&nbsp;&nbsp;</span>Returning function from another function</a></span><ul class=\"toc-item\"><li><span><a href=\"#A-useful-example\" data-toc-modified-id=\"A-useful-example-3.1\"><span class=\"toc-item-num\">3.1&nbsp;&nbsp;</span>A useful example</a></span></li></ul></li><li><span><a href=\"#Reference\" data-toc-modified-id=\"Reference-4\"><span class=\"toc-item-num\">4&nbsp;&nbsp;</span>Reference</a></span></li></ul></div>"
   ]
  },
  {
   "cell_type": "markdown",
   "metadata": {},
   "source": [
    "<br>\n",
    "\n",
    "In computer science, a programming language is said to have **first-class functions** if it treats functions as first-class citizens. This means the language supports:\n",
    "\n",
    "- passing functions as arguments to other functions\n",
    "- returning them as the values from other functions \n",
    "- and assigning them to variables or storing them in data structures.\n",
    "\n",
    "In programming language design, a **first-class citizen** (also type, object, entity, or value) in a given programming language is an entity which supports all the operations generally available to other entities. These operations typically include being passed as an argument, returned from a function, modified, and assigned to a variable.\n",
    "\n",
    "In languages with first-class functions, the names of functions do not have any special status; they are treated like ordinary variables with a function type.\n"
   ]
  },
  {
   "cell_type": "markdown",
   "metadata": {},
   "source": [
    "### Assigning the function"
   ]
  },
  {
   "cell_type": "code",
   "execution_count": 2,
   "metadata": {
    "ExecuteTime": {
     "end_time": "2020-09-08T20:49:13.544501Z",
     "start_time": "2020-09-08T20:49:13.534525Z"
    }
   },
   "outputs": [
    {
     "name": "stdout",
     "output_type": "stream",
     "text": [
      "25\n",
      "<function square at 0x000002A4168990D0>\n",
      "<function square at 0x000002A4168990D0>\n",
      "25\n",
      "25\n"
     ]
    }
   ],
   "source": [
    "def square(x):\n",
    "    return x*x\n",
    "\n",
    "# assigning the return value of function\n",
    "f1 = square(5)\n",
    "\n",
    "# assigning the function itself: we don't give the parenthesis as we don't to call/execute the function\n",
    "f2 = square\n",
    "\n",
    "print(f1)\n",
    "print(f2)\n",
    "print(square)\n",
    "\n",
    "# now we can use f2 same as function square\n",
    "print(f2(5))\n",
    "print(square(5))"
   ]
  },
  {
   "cell_type": "markdown",
   "metadata": {},
   "source": [
    "### Passing the function as argument\n",
    "\n"
   ]
  },
  {
   "cell_type": "markdown",
   "metadata": {},
   "source": [
    "Classic example of this is built-in *map* function."
   ]
  },
  {
   "cell_type": "code",
   "execution_count": 5,
   "metadata": {
    "ExecuteTime": {
     "end_time": "2020-09-08T20:51:08.812031Z",
     "start_time": "2020-09-08T20:51:08.803058Z"
    }
   },
   "outputs": [
    {
     "data": {
      "text/plain": [
       "[1, 4, 9, 16, 25]"
      ]
     },
     "execution_count": 5,
     "metadata": {},
     "output_type": "execute_result"
    }
   ],
   "source": [
    "# this map function that takes another function and a list as input\n",
    "# it applies the function on each element of the list and then returns the result\n",
    "\n",
    "def my_mapper(fns, arr):\n",
    "    res = [fns(elem) for elem in arr]\n",
    "    return res\n",
    "\n",
    "\n",
    "arr = [1,2,3,4,5]\n",
    "\n",
    "# again, we don't use parenthesis while passing the \"square\" fns as argument\n",
    "my_mapper(square, arr)"
   ]
  },
  {
   "cell_type": "code",
   "execution_count": 4,
   "metadata": {
    "ExecuteTime": {
     "end_time": "2020-09-08T20:49:35.751800Z",
     "start_time": "2020-09-08T20:49:35.743821Z"
    }
   },
   "outputs": [
    {
     "data": {
      "text/plain": [
       "[1, 8, 27, 64, 125]"
      ]
     },
     "execution_count": 4,
     "metadata": {},
     "output_type": "execute_result"
    }
   ],
   "source": [
    "# it can also accept lambda functions\n",
    "my_mapper(lambda x: x**3, arr)"
   ]
  },
  {
   "cell_type": "markdown",
   "metadata": {},
   "source": [
    "### Returning function from another function"
   ]
  },
  {
   "cell_type": "markdown",
   "metadata": {},
   "source": [
    "Useful for logging, decorators"
   ]
  },
  {
   "cell_type": "code",
   "execution_count": 6,
   "metadata": {
    "ExecuteTime": {
     "end_time": "2020-09-08T20:57:53.514750Z",
     "start_time": "2020-09-08T20:57:53.507768Z"
    }
   },
   "outputs": [
    {
     "name": "stdout",
     "output_type": "stream",
     "text": [
      "message: hello\n"
     ]
    }
   ],
   "source": [
    "def logger(msg):\n",
    "    def log_message():\n",
    "        print('message:', msg)\n",
    "    \n",
    "    # no parenthesis as we aren't calling the fns, we are returning it\n",
    "    return log_message\n",
    "\n",
    "\n",
    "# at this point log1 is equivalent to log_message as that's what is being returned by logger()\n",
    "log1 = logger(\"hello\")\n",
    "\n",
    "# now we call the log_message: hence parenthesis\n",
    "# the function remembered the variable passed to it: this is concept of Closure\n",
    "log1() \n"
   ]
  },
  {
   "cell_type": "code",
   "execution_count": 7,
   "metadata": {
    "ExecuteTime": {
     "end_time": "2020-09-08T20:59:08.240656Z",
     "start_time": "2020-09-08T20:59:08.235668Z"
    }
   },
   "outputs": [
    {
     "name": "stdout",
     "output_type": "stream",
     "text": [
      "message: hello world\n",
      "message: hello world\n"
     ]
    }
   ],
   "source": [
    "# it doesn't remember past messages..:(\n",
    "log1 = logger(\"hello\")\n",
    "log1 = logger(\"hello world\")\n",
    "\n",
    "log1()\n",
    "log1()"
   ]
  },
  {
   "cell_type": "markdown",
   "metadata": {},
   "source": [
    "#### A useful example"
   ]
  },
  {
   "cell_type": "code",
   "execution_count": 8,
   "metadata": {
    "ExecuteTime": {
     "end_time": "2020-09-08T21:03:56.283121Z",
     "start_time": "2020-09-08T21:03:56.275143Z"
    }
   },
   "outputs": [
    {
     "name": "stdout",
     "output_type": "stream",
     "text": [
      "<h1>Headline</h1\n",
      "<h1>Another Headline</h1\n",
      "<p>A paragraph</p\n"
     ]
    }
   ],
   "source": [
    "def html_tag(tag):\n",
    "    def wrap_text(text):\n",
    "        print(f\"<{tag}>{text}</{tag}\")\n",
    "    \n",
    "    # returning the function\n",
    "    return wrap_text\n",
    "\n",
    "print_h1 = html_tag(\"h1\")\n",
    "\n",
    "# will remember the tag with which the function was created\n",
    "print_h1(\"Headline\")\n",
    "print_h1(\"Another Headline\")\n",
    "\n",
    "print_p = html_tag(\"p\")\n",
    "print_p(\"A paragraph\")"
   ]
  },
  {
   "cell_type": "markdown",
   "metadata": {},
   "source": [
    "### Reference"
   ]
  },
  {
   "cell_type": "markdown",
   "metadata": {},
   "source": [
    "https://en.wikipedia.org/wiki/First-class_function\n",
    "\n",
    "https://www.youtube.com/watch?v=kr0mpwqttM0&ab_channel=CoreySchafer\n",
    "    "
   ]
  },
  {
   "cell_type": "code",
   "execution_count": null,
   "metadata": {},
   "outputs": [],
   "source": []
  },
  {
   "cell_type": "code",
   "execution_count": null,
   "metadata": {},
   "outputs": [],
   "source": []
  },
  {
   "cell_type": "code",
   "execution_count": null,
   "metadata": {},
   "outputs": [],
   "source": []
  },
  {
   "cell_type": "code",
   "execution_count": null,
   "metadata": {},
   "outputs": [],
   "source": []
  },
  {
   "cell_type": "code",
   "execution_count": null,
   "metadata": {},
   "outputs": [],
   "source": []
  },
  {
   "cell_type": "code",
   "execution_count": null,
   "metadata": {},
   "outputs": [],
   "source": []
  },
  {
   "cell_type": "code",
   "execution_count": null,
   "metadata": {},
   "outputs": [],
   "source": []
  }
 ],
 "metadata": {
  "kernelspec": {
   "display_name": "Python 3",
   "language": "python",
   "name": "python3"
  },
  "language_info": {
   "codemirror_mode": {
    "name": "ipython",
    "version": 3
   },
   "file_extension": ".py",
   "mimetype": "text/x-python",
   "name": "python",
   "nbconvert_exporter": "python",
   "pygments_lexer": "ipython3",
   "version": "3.7.3"
  },
  "toc": {
   "base_numbering": 1,
   "nav_menu": {},
   "number_sections": true,
   "sideBar": true,
   "skip_h1_title": false,
   "title_cell": "Table of Contents",
   "title_sidebar": "ToC",
   "toc_cell": true,
   "toc_position": {
    "height": "calc(100% - 180px)",
    "left": "10px",
    "top": "150px",
    "width": "165px"
   },
   "toc_section_display": true,
   "toc_window_display": true
  }
 },
 "nbformat": 4,
 "nbformat_minor": 2
}
