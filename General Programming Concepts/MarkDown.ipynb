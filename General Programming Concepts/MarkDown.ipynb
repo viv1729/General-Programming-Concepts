{
 "cells": [
  {
   "cell_type": "markdown",
   "metadata": {
    "toc": true
   },
   "source": [
    "<h1>Table of Contents<span class=\"tocSkip\"></span></h1>\n",
    "<div class=\"toc\"><ul class=\"toc-item\"><li><span><a href=\"#Headers\" data-toc-modified-id=\"Headers-1\"><span class=\"toc-item-num\">1&nbsp;&nbsp;</span>Headers</a></span></li><li><span><a href=\"#Horizontal-Rule\" data-toc-modified-id=\"Horizontal-Rule-2\"><span class=\"toc-item-num\">2&nbsp;&nbsp;</span>Horizontal Rule</a></span></li><li><span><a href=\"#Emphasis\" data-toc-modified-id=\"Emphasis-3\"><span class=\"toc-item-num\">3&nbsp;&nbsp;</span>Emphasis</a></span></li><li><span><a href=\"#Lists\" data-toc-modified-id=\"Lists-4\"><span class=\"toc-item-num\">4&nbsp;&nbsp;</span>Lists</a></span></li><li><span><a href=\"#Links\" data-toc-modified-id=\"Links-5\"><span class=\"toc-item-num\">5&nbsp;&nbsp;</span>Links</a></span></li><li><span><a href=\"#Code-and-Syntax-Highlighting\" data-toc-modified-id=\"Code-and-Syntax-Highlighting-6\"><span class=\"toc-item-num\">6&nbsp;&nbsp;</span>Code and Syntax Highlighting</a></span><ul class=\"toc-item\"><li><span><a href=\"#general-highlight\" data-toc-modified-id=\"general-highlight-6.1\"><span class=\"toc-item-num\">6.1&nbsp;&nbsp;</span>general highlight</a></span></li></ul></li><li><span><a href=\"#Blockquotes\" data-toc-modified-id=\"Blockquotes-7\"><span class=\"toc-item-num\">7&nbsp;&nbsp;</span>Blockquotes</a></span></li><li><span><a href=\"#Task-Lists\" data-toc-modified-id=\"Task-Lists-8\"><span class=\"toc-item-num\">8&nbsp;&nbsp;</span>Task Lists</a></span></li><li><span><a href=\"#Inline-HTML\" data-toc-modified-id=\"Inline-HTML-9\"><span class=\"toc-item-num\">9&nbsp;&nbsp;</span>Inline HTML</a></span></li><li><span><a href=\"#Images\" data-toc-modified-id=\"Images-10\"><span class=\"toc-item-num\">10&nbsp;&nbsp;</span>Images</a></span><ul class=\"toc-item\"><li><span><a href=\"#use-IPython.display\" data-toc-modified-id=\"use-IPython.display-10.1\"><span class=\"toc-item-num\">10.1&nbsp;&nbsp;</span>use IPython.display</a></span></li></ul></li><li><span><a href=\"#Videos,-Audios\" data-toc-modified-id=\"Videos,-Audios-11\"><span class=\"toc-item-num\">11&nbsp;&nbsp;</span>Videos, Audios</a></span><ul class=\"toc-item\"><li><span><a href=\"#use-IPython.display\" data-toc-modified-id=\"use-IPython.display-11.1\"><span class=\"toc-item-num\">11.1&nbsp;&nbsp;</span>use IPython.display</a></span></li></ul></li><li><span><a href=\"#External-sites\" data-toc-modified-id=\"External-sites-12\"><span class=\"toc-item-num\">12&nbsp;&nbsp;</span>External sites</a></span></li><li><span><a href=\"#References\" data-toc-modified-id=\"References-13\"><span class=\"toc-item-num\">13&nbsp;&nbsp;</span>References</a></span></li></ul></div>"
   ]
  },
  {
   "cell_type": "markdown",
   "metadata": {},
   "source": [
    "IPython.display sections might not render in Markdown properly. Open [Jupyter Notebook](MarkDown.ipynb) to view these. "
   ]
  },
  {
   "cell_type": "markdown",
   "metadata": {},
   "source": [
    "# Headers\n"
   ]
  },
  {
   "cell_type": "code",
   "execution_count": null,
   "metadata": {},
   "outputs": [],
   "source": [
    "# Headers\n",
    "## H2\n",
    "### H3\n",
    "#### H4\n",
    "##### H5\n",
    "###### H6\n",
    "\n",
    "\n",
    "**Alternatively, for H1 and H2, we can use an underline-ish style:** \n",
    "\n",
    "H1\n",
    "===\n",
    "\n",
    "H2\n",
    "---"
   ]
  },
  {
   "cell_type": "markdown",
   "metadata": {},
   "source": [
    "# Horizontal Rule"
   ]
  },
  {
   "cell_type": "code",
   "execution_count": null,
   "metadata": {
    "ExecuteTime": {
     "end_time": "2020-09-09T09:36:44.148893Z",
     "start_time": "2020-09-09T09:36:44.141912Z"
    }
   },
   "outputs": [],
   "source": [
    "Three or more...\n",
    "\n",
    "Asterisks\n",
    "***\n",
    "\n",
    "\n",
    "Underscores\n",
    "___\n",
    "\n"
   ]
  },
  {
   "cell_type": "markdown",
   "metadata": {},
   "source": [
    "Asterisks\n",
    "***\n",
    "\n",
    "\n",
    "Underscores\n",
    "___\n",
    "\n"
   ]
  },
  {
   "cell_type": "markdown",
   "metadata": {},
   "source": [
    "# Emphasis"
   ]
  },
  {
   "cell_type": "code",
   "execution_count": null,
   "metadata": {},
   "outputs": [],
   "source": [
    "Emphasis, aka italics, with *asterisks* or _underscores_.\n",
    "\n",
    "Strong emphasis, aka bold, with **asterisks** or __underscores__.\n",
    "\n",
    "Combined emphasis with **asterisks and _underscores_**.\n",
    "\n",
    "Strikethrough uses two tildes. ~~Scratch this.~~"
   ]
  },
  {
   "cell_type": "markdown",
   "metadata": {},
   "source": [
    "Emphasis, aka italics, with *asterisks* or _underscores_.\n",
    "\n",
    "Strong emphasis, aka bold, with **asterisks** or __underscores__.\n",
    "\n",
    "Combined emphasis with **asterisks and _underscores_**.\n",
    "\n",
    "Strikethrough uses two tildes. ~~Scratch this.~~"
   ]
  },
  {
   "cell_type": "markdown",
   "metadata": {},
   "source": [
    "# Lists"
   ]
  },
  {
   "cell_type": "code",
   "execution_count": null,
   "metadata": {},
   "outputs": [],
   "source": [
    "1. First ordered list item\n",
    "2. Another item\n",
    " * Unordered sub-list. \n",
    "  \n",
    "**To have nested list, we need to give a leading space.**  \n",
    "To have a list items/paragrapgh lines together we need to give a trailing space (may be two).\n",
    "  \n",
    "  \n",
    "1. Actual numbers don't matter, just that it's a number\n",
    " 1. Ordered sub-list\n",
    "4. And another item.\n",
    "\n",
    "\n",
    "**To have a line break without a paragraph, you will need to use two trailing spaces.**  \n",
    "Note that this line is separate, but within the same paragraph. \n",
    "\n",
    "* Unordered list can use asterisks\n",
    "- Or minuses\n",
    "+ Or pluses"
   ]
  },
  {
   "cell_type": "markdown",
   "metadata": {
    "ExecuteTime": {
     "end_time": "2020-09-09T09:14:22.616699Z",
     "start_time": "2020-09-09T09:14:22.605728Z"
    }
   },
   "source": [
    "1. First ordered list item\n",
    "2. Another item\n",
    " * Unordered sub-list. \n",
    "  \n",
    "**To have nested list, we need to give a leading space.**  \n",
    "To have a list items/paragrapgh lines together we need to give a trailing space (may be two).\n",
    "  \n",
    "  \n",
    "1. Actual numbers don't matter, just that it's a number\n",
    " 1. Ordered sub-list\n",
    "4. And another item.\n",
    "\n",
    "\n",
    "**To have a line break without a paragraph, you will need to use two trailing spaces.**  \n",
    "Note that this line is separate, but within the same paragraph. \n",
    "\n",
    "* Unordered list can use asterisks\n",
    "- Or minuses\n",
    "+ Or pluses"
   ]
  },
  {
   "cell_type": "markdown",
   "metadata": {},
   "source": [
    "# Links"
   ]
  },
  {
   "cell_type": "code",
   "execution_count": null,
   "metadata": {},
   "outputs": [],
   "source": [
    "[I'm an inline-style link](https://www.google.com)\n",
    "\n",
    "[I'm an inline-style link with title](https://www.google.com \"Google's Homepage\")\n",
    "\n",
    "[I'm a reference-style link][Arbitrary case-insensitive reference text]\n",
    "\n",
    "[I'm a relative reference to a repository file](../blob/master/LICENSE)\n",
    "\n",
    "[You can use numbers for reference-style link definitions][1]\n",
    "\n",
    "Or leave it empty and use the [link text itself].\n",
    "\n",
    "URLs and URLs in angle brackets will automatically get turned into links. \n",
    "http://www.example.com or <http://www.example.com> and sometimes \n",
    "example.com (but not on Github, for example).\n",
    "\n",
    "Some text to show that the reference links can follow later.\n",
    "\n",
    "[arbitrary case-insensitive reference text]: https://www.mozilla.org\n",
    "[1]: http://slashdot.org\n",
    "[link text itself]: http://www.reddit.com"
   ]
  },
  {
   "cell_type": "markdown",
   "metadata": {},
   "source": [
    "[I'm an inline-style link](https://www.google.com)\n",
    "\n",
    "[I'm an inline-style link with title](https://www.google.com \"Google's Homepage\")\n",
    "\n",
    "[I'm a reference-style link][Arbitrary case-insensitive reference text]\n",
    "\n",
    "[I'm a relative reference to a repository file](../blob/master/LICENSE)\n",
    "\n",
    "[You can use numbers for reference-style link definitions][1]\n",
    "\n",
    "Or leave it empty and use the [link text itself].\n",
    "\n",
    "URLs and URLs in angle brackets will automatically get turned into links. \n",
    "http://www.example.com or <http://www.example.com> and sometimes \n",
    "example.com (but not on Github, for example).\n",
    "\n",
    "Some text to show that the reference links can follow later.\n",
    "\n",
    "[arbitrary case-insensitive reference text]: https://www.mozilla.org\n",
    "[1]: http://slashdot.org\n",
    "[link text itself]: http://www.reddit.com"
   ]
  },
  {
   "cell_type": "markdown",
   "metadata": {},
   "source": [
    "# Code and Syntax Highlighting"
   ]
  },
  {
   "cell_type": "markdown",
   "metadata": {},
   "source": [
    "Code blocks are part of the Markdown spec, but syntax highlighting isn't. \n",
    "\n",
    "However, many renderers -- like Github support syntax highlighting. Which languages are supported and how those language names should be written will vary from renderer to renderer. \n",
    "\n",
    "Blocks of code are either fenced by lines with three back-ticks ```, or are indented with four spaces. Use fenced code blocks -- they're easier and only they support syntax highlighting."
   ]
  },
  {
   "cell_type": "code",
   "execution_count": null,
   "metadata": {},
   "outputs": [],
   "source": [
    "Inline `code` has `back-ticks around` it."
   ]
  },
  {
   "cell_type": "markdown",
   "metadata": {},
   "source": [
    "Inline `code` has `back-ticks around` it."
   ]
  },
  {
   "cell_type": "code",
   "execution_count": null,
   "metadata": {
    "ExecuteTime": {
     "end_time": "2020-09-09T11:40:13.473122Z",
     "start_time": "2020-09-09T11:40:13.447080Z"
    }
   },
   "outputs": [],
   "source": [
    "```javascript\n",
    "var s = \"JavaScript syntax highlighting\";\n",
    "alert(s);\n",
    "```"
   ]
  },
  {
   "cell_type": "markdown",
   "metadata": {},
   "source": [
    "```javascript\n",
    "var s = \"JavaScript syntax highlighting\";\n",
    "alert(s);\n",
    "```"
   ]
  },
  {
   "cell_type": "code",
   "execution_count": null,
   "metadata": {},
   "outputs": [],
   "source": [
    "```python\n",
    "s = \"Python syntax highlighting\"\n",
    "print(s)\n",
    "```"
   ]
  },
  {
   "cell_type": "markdown",
   "metadata": {},
   "source": [
    "```python\n",
    "s = \"Python syntax highlighting\"\n",
    "print(s)\n",
    "```"
   ]
  },
  {
   "cell_type": "code",
   "execution_count": null,
   "metadata": {},
   "outputs": [],
   "source": [
    "```\n",
    "No language indicated, so no syntax highlighting. \n",
    "But let's throw in a <b>tag</b>.\n",
    "```"
   ]
  },
  {
   "cell_type": "markdown",
   "metadata": {},
   "source": [
    "```\n",
    "No language indicated, so no syntax highlighting. \n",
    "But let's throw in a <b>tag</b>.\n",
    "```"
   ]
  },
  {
   "cell_type": "markdown",
   "metadata": {},
   "source": [
    "## general highlight"
   ]
  },
  {
   "cell_type": "code",
   "execution_count": null,
   "metadata": {},
   "outputs": [],
   "source": [
    "<mark>Marked text</mark>\n",
    "\n",
    "<mark style=\"background-color: lightblue\">Marked text</mark>\n"
   ]
  },
  {
   "cell_type": "markdown",
   "metadata": {},
   "source": [
    "<mark>Marked text</mark>\n",
    "\n",
    "<mark style=\"background-color: lightblue\">Marked text</mark>\n"
   ]
  },
  {
   "cell_type": "markdown",
   "metadata": {},
   "source": [
    "# Blockquotes"
   ]
  },
  {
   "cell_type": "code",
   "execution_count": null,
   "metadata": {
    "ExecuteTime": {
     "end_time": "2020-09-09T09:32:49.559512Z",
     "start_time": "2020-09-09T09:32:49.544672Z"
    }
   },
   "outputs": [],
   "source": [
    "> Blockquotes are very handy in email to emulate reply text.  \n",
    "> This line is part of the same quote.\n",
    "\n",
    "> Blockquotes are very handy in email to emulate reply text.\n",
    "> This line is part of the same quote but is on a newline due to 2 trailing spaces on 1st line\n",
    "\n",
    "\n",
    "Quote break.\n",
    "\n",
    "> This is a very long line that will still be quoted properly when it wraps. Oh boy let's keep writing to make sure this is long enough to actually wrap for everyone. Oh, you can *put* **Markdown** into a blockquote. "
   ]
  },
  {
   "cell_type": "markdown",
   "metadata": {},
   "source": [
    "> Blockquotes are very handy in email to emulate reply text.\n",
    "> This line is part of the same quote.\n",
    "\n",
    "> Blockquotes are very handy in email to emulate reply text.  \n",
    "> This line is part of the same quote but is on a newline due to 2 trailing spaces on 1st line.\n",
    "\n",
    "\n",
    "Quote break.\n",
    "\n",
    "> This is a very long line that will still be quoted properly when it wraps. Oh boy let's keep writing to make sure this is long enough to actually wrap for everyone. Oh, you can *put* **Markdown** into a blockquote. "
   ]
  },
  {
   "cell_type": "markdown",
   "metadata": {},
   "source": [
    "# Task Lists"
   ]
  },
  {
   "cell_type": "code",
   "execution_count": null,
   "metadata": {},
   "outputs": [],
   "source": [
    "Task lists allow you to create a list of items with checkboxes. To create a task list, add dashes (-) and brackets with a space ([ ]) in front of task list items. To select a checkbox, add an x in between the brackets ([x]) \n",
    "\n",
    "- [x] Finish my changes\n",
    "- [ ] Push my commits to GitHub\n",
    "- [ ] Open a pull request\n",
    "\n",
    "If a task list item description begins with a parenthesis, you'll need to escape it with \\:\n",
    "- [ ] \\(Optional) Open a followup issue\n",
    "\n"
   ]
  },
  {
   "cell_type": "markdown",
   "metadata": {},
   "source": [
    "\n",
    " - [x] Finish my changes  \n",
    " - [ ] Push my commits to GitHub  \n",
    " - [ ] Open a pull request  \n",
    "\n",
    "If a task list item description begins with a parenthesis, you'll need to escape it with \\\\:\n",
    "\n",
    " - [ ] \\(Optional) Open a followup issue\n"
   ]
  },
  {
   "cell_type": "markdown",
   "metadata": {},
   "source": [
    "\n",
    "# Inline HTML"
   ]
  },
  {
   "cell_type": "code",
   "execution_count": null,
   "metadata": {},
   "outputs": [],
   "source": [
    "<dl>\n",
    "  <dt>Definition list</dt>\n",
    "  <dd>Is something people use sometimes.</dd>\n",
    "\n",
    "  <dt>Markdown in HTML</dt>\n",
    "  <dd>Does *not* work **very** well. Use HTML <em>tags</em>.</dd>\n",
    "</dl>"
   ]
  },
  {
   "cell_type": "markdown",
   "metadata": {},
   "source": [
    "<dl>\n",
    "  <dt>Definition list</dt>\n",
    "  <dd>Is something people use sometimes.</dd>\n",
    "\n",
    "  <dt>Markdown in HTML</dt>\n",
    "  <dd>Does *not* work **very** well. Use HTML <em>tags</em>.</dd>\n",
    "</dl>"
   ]
  },
  {
   "cell_type": "markdown",
   "metadata": {},
   "source": [
    "# Images"
   ]
  },
  {
   "cell_type": "code",
   "execution_count": null,
   "metadata": {},
   "outputs": [],
   "source": [
    "Here's our logo (hover to see the title text):\n",
    "\n",
    "Inline-style: \n",
    "![alt text](https://github.com/adam-p/markdown-here/raw/master/src/common/images/icon48.png \"Logo Title Text 1\")\n",
    "\n",
    "Reference-style: \n",
    "![alt text][logo]\n",
    "\n",
    "[logo]: https://github.com/adam-p/markdown-here/raw/master/src/common/images/icon48.png \"Logo Title Text 2\""
   ]
  },
  {
   "cell_type": "markdown",
   "metadata": {},
   "source": [
    "Here's our logo (hover to see the title text):\n",
    "\n",
    "Inline-style: \n",
    "![alt text](https://github.com/adam-p/markdown-here/raw/master/src/common/images/icon48.png \"Logo Title Text 1\")\n",
    "\n",
    "Reference-style: \n",
    "![alt text][logo]\n",
    "\n",
    "[logo]: https://github.com/adam-p/markdown-here/raw/master/src/common/images/icon48.png \"Logo Title Text 2\""
   ]
  },
  {
   "cell_type": "markdown",
   "metadata": {},
   "source": [
    "## use IPython.display"
   ]
  },
  {
   "cell_type": "markdown",
   "metadata": {},
   "source": [
    "Open [Jupyter Notebook](MarkDown.ipynb) to view this properly. "
   ]
  },
  {
   "cell_type": "code",
   "execution_count": 7,
   "metadata": {
    "ExecuteTime": {
     "end_time": "2020-09-09T09:54:35.983421Z",
     "start_time": "2020-09-09T09:54:33.661964Z"
    }
   },
   "outputs": [],
   "source": [
    "from IPython.display import Image\n",
    "\n",
    "img_url = 'https://upload.wikimedia.org/wikipedia/commons/thumb/4/46/Colored_neural_network.svg/300px-Colored_neural_network.svg.png'\n",
    "\n",
    "# by default Image data are embedded\n",
    "Embed = Image(img_url)\n",
    "\n",
    "# if 'url' parameter is given, the embedding is assumed to be false\n",
    "# will display image after cell is run\n",
    "SoftLinked = Image(url=img_url)\n",
    "\n",
    "# In each case, embed can be specified explicitly with the 'embed' parameter\n",
    "ForceEmbed = Image(url=img_url, embed=True)"
   ]
  },
  {
   "cell_type": "code",
   "execution_count": 14,
   "metadata": {
    "ExecuteTime": {
     "end_time": "2020-09-09T11:56:00.723797Z",
     "start_time": "2020-09-09T11:56:00.677820Z"
    }
   },
   "outputs": [
    {
     "data": {
      "image/png": "[encoded data removed]",
      "text/plain": [
       "<IPython.core.display.Image object>"
      ]
     },
     "execution_count": 14,
     "metadata": {},
     "output_type": "execute_result"
    }
   ],
   "source": [
    "Embed"
   ]
  },
  {
   "cell_type": "code",
   "execution_count": 15,
   "metadata": {
    "ExecuteTime": {
     "end_time": "2020-09-09T11:56:04.243779Z",
     "start_time": "2020-09-09T11:56:04.236294Z"
    }
   },
   "outputs": [
    {
     "data": {
      "text/html": [
       "<img src=\"https://upload.wikimedia.org/wikipedia/commons/thumb/4/46/Colored_neural_network.svg/300px-Colored_neural_network.svg.png\"/>"
      ],
      "text/plain": [
       "<IPython.core.display.Image object>"
      ]
     },
     "execution_count": 15,
     "metadata": {},
     "output_type": "execute_result"
    }
   ],
   "source": [
    "SoftLinked"
   ]
  },
  {
   "cell_type": "markdown",
   "metadata": {},
   "source": [
    "# Videos, Audios"
   ]
  },
  {
   "cell_type": "markdown",
   "metadata": {},
   "source": [
    "They can't be added directly but you can add an image with a link to the video like this:\n",
    "\n",
    "```html\n",
    "<a href=\"http://www.youtube.com/watch?feature=player_embedded&v=jGwO_UgTS7I\" target=\"_blank\"><img src=\"http://img.youtube.com/vi/jGwO_UgTS7I/0.jpg\" alt=\"IMAGE ALT TEXT HERE\" width=\"240\" height=\"180\" border=\"10\" /></a>\n",
    "```"
   ]
  },
  {
   "cell_type": "markdown",
   "metadata": {},
   "source": [
    "<a href=\"http://www.youtube.com/watch?feature=player_embedded&v=jGwO_UgTS7I\" target=\"_blank\"><img src=\"http://img.youtube.com/vi/jGwO_UgTS7I/0.jpg\" alt=\"IMAGE ALT TEXT HERE\" width=\"240\" height=\"180\" border=\"10\" /></a>"
   ]
  },
  {
   "cell_type": "markdown",
   "metadata": {},
   "source": [
    "Or, in pure Markdown, but losing the image sizing and border:\n",
    "\n",
    "```\n",
    "[![IMAGE ALT TEXT HERE](http://img.youtube.com/vi/jGwO_UgTS7I/0.jpg)](http://www.youtube.com/watch?v=jGwO_UgTS7I)\n",
    "```\n"
   ]
  },
  {
   "cell_type": "markdown",
   "metadata": {},
   "source": [
    "[![IMAGE ALT TEXT HERE](http://img.youtube.com/vi/jGwO_UgTS7I/0.jpg)](http://www.youtube.com/watch?v=jGwO_UgTS7I)"
   ]
  },
  {
   "cell_type": "markdown",
   "metadata": {},
   "source": [
    "## use IPython.display"
   ]
  },
  {
   "cell_type": "markdown",
   "metadata": {},
   "source": [
    "Open [Jupyter Notebook](MarkDown.ipynb) to view this properly.  \n",
    "*If still not visible, you might need to execute the cell as it's accessing an external site.*"
   ]
  },
  {
   "cell_type": "code",
   "execution_count": 16,
   "metadata": {
    "ExecuteTime": {
     "end_time": "2020-09-09T11:56:08.796222Z",
     "start_time": "2020-09-09T11:56:07.985417Z"
    }
   },
   "outputs": [
    {
     "data": {
      "image/jpeg": "[encoded data removed]",
      "text/html": [
       "\n",
       "        <iframe\n",
       "            width=\"400\"\n",
       "            height=\"300\"\n",
       "            src=\"https://www.youtube.com/embed/jGwO_UgTS7I\"\n",
       "            frameborder=\"0\"\n",
       "            allowfullscreen\n",
       "        ></iframe>\n",
       "        "
      ],
      "text/plain": [
       "<IPython.lib.display.YouTubeVideo at 0x211405927b8>"
      ]
     },
     "execution_count": 16,
     "metadata": {},
     "output_type": "execute_result"
    }
   ],
   "source": [
    "from IPython.display import YouTubeVideo\n",
    "\n",
    "YouTubeVideo('jGwO_UgTS7I', width=400, height=300)"
   ]
  },
  {
   "cell_type": "code",
   "execution_count": 17,
   "metadata": {
    "ExecuteTime": {
     "end_time": "2020-09-09T11:56:11.848744Z",
     "start_time": "2020-09-09T11:56:11.831200Z"
    }
   },
   "outputs": [
    {
     "data": {
      "text/html": [
       "\n",
       "                <audio  controls=\"controls\" >\n",
       "                    <source src=\"http://www.nch.com.au/acm/8k16bitpcm.wav\" type=\"audio/wav\" />\n",
       "                    Your browser does not support the audio element.\n",
       "                </audio>\n",
       "              "
      ],
      "text/plain": [
       "<IPython.lib.display.Audio object>"
      ]
     },
     "execution_count": 17,
     "metadata": {},
     "output_type": "execute_result"
    }
   ],
   "source": [
    "from IPython.display import Audio\n",
    "\n",
    "Audio(url=\"http://www.nch.com.au/acm/8k16bitpcm.wav\")"
   ]
  },
  {
   "cell_type": "markdown",
   "metadata": {},
   "source": [
    "# External sites"
   ]
  },
  {
   "cell_type": "markdown",
   "metadata": {},
   "source": [
    "Open [Jupyter Notebook](MarkDown.ipynb) to view this properly.  \n",
    "*If still not visible, you might need to execute the cell as it's accessing an external site.*"
   ]
  },
  {
   "cell_type": "code",
   "execution_count": 12,
   "metadata": {
    "ExecuteTime": {
     "end_time": "2020-09-09T09:57:38.170234Z",
     "start_time": "2020-09-09T09:57:38.161915Z"
    }
   },
   "outputs": [
    {
     "data": {
      "text/html": [
       "\n",
       "        <iframe\n",
       "            width=\"100%\"\n",
       "            height=\"350\"\n",
       "            src=\"https://en.wikipedia.org/wiki/Machine_learning?useformat=mobile\"\n",
       "            frameborder=\"0\"\n",
       "            allowfullscreen\n",
       "        ></iframe>\n",
       "        "
      ],
      "text/plain": [
       "<IPython.lib.display.IFrame at 0x21140592710>"
      ]
     },
     "execution_count": 12,
     "metadata": {},
     "output_type": "execute_result"
    }
   ],
   "source": [
    "from IPython.display import IFrame\n",
    "\n",
    "IFrame('https://en.wikipedia.org/wiki/Machine_learning?useformat=mobile', width='100%', height=350)"
   ]
  },
  {
   "cell_type": "markdown",
   "metadata": {},
   "source": [
    "# References"
   ]
  },
  {
   "cell_type": "markdown",
   "metadata": {},
   "source": [
    "1. https://www.markdownguide.org/extended-syntax/\n",
    "\n",
    "\n",
    "2. http://louistiao.me/posts/demos/ipython-notebook-demo/\n",
    "\n",
    "\n",
    "3. https://github.com/adam-p/markdown-here/wiki/Markdown-Cheatsheet"
   ]
  },
  {
   "cell_type": "code",
   "execution_count": null,
   "metadata": {},
   "outputs": [],
   "source": []
  }
 ],
 "metadata": {
  "kernelspec": {
   "display_name": "Python 3",
   "language": "python",
   "name": "python3"
  },
  "language_info": {
   "codemirror_mode": {
    "name": "ipython",
    "version": 3
   },
   "file_extension": ".py",
   "mimetype": "text/x-python",
   "name": "python",
   "nbconvert_exporter": "python",
   "pygments_lexer": "ipython3",
   "version": "3.7.3"
  },
  "toc": {
   "base_numbering": 1,
   "nav_menu": {},
   "number_sections": true,
   "sideBar": true,
   "skip_h1_title": false,
   "title_cell": "Table of Contents",
   "title_sidebar": "ToC",
   "toc_cell": true,
   "toc_position": {
    "height": "calc(100% - 180px)",
    "left": "10px",
    "top": "150px",
    "width": "192.102px"
   },
   "toc_section_display": true,
   "toc_window_display": true
  }
 },
 "nbformat": 4,
 "nbformat_minor": 2
}
