{
 "cells": [
  {
   "cell_type": "markdown",
   "metadata": {
    "toc": true
   },
   "source": [
    "<h1>Table of Contents<span class=\"tocSkip\"></span></h1>\n",
    "<div class=\"toc\"><ul class=\"toc-item\"><li><span><a href=\"#Definition\" data-toc-modified-id=\"Definition-1\"><span class=\"toc-item-num\">1&nbsp;&nbsp;</span>Definition</a></span></li><li><span><a href=\"#first-class-function\" data-toc-modified-id=\"first-class-function-2\"><span class=\"toc-item-num\">2&nbsp;&nbsp;</span>first class function</a></span></li><li><span><a href=\"#simple-closure\" data-toc-modified-id=\"simple-closure-3\"><span class=\"toc-item-num\">3&nbsp;&nbsp;</span>simple closure</a></span></li><li><span><a href=\"#closure-with-params\" data-toc-modified-id=\"closure-with-params-4\"><span class=\"toc-item-num\">4&nbsp;&nbsp;</span>closure with params</a></span></li></ul></div>"
   ]
  },
  {
   "cell_type": "markdown",
   "metadata": {},
   "source": [
    "## Definition\n"
   ]
  },
  {
   "cell_type": "markdown",
   "metadata": {},
   "source": [
    "In programming languages, a **closure**, also **lexical closure** or **function closure**, is a technique for implementing lexically scoped name binding in a language with first-class functions. Operationally, a closure is *a record storing a function* together with an environment.\n",
    "\n",
    "The environment is a mapping associating each free variable of the function (variables that are used locally, but defined in an enclosing scope) with the value or reference to which the name was bound when the closure was created.\n",
    "\n",
    "Unlike a plain function, a *closure allows the function to access those captured variables through the closure's copies of their values or references*, even when the function is invoked outside their scope.\n",
    "\n",
    "<br>\n",
    "In simple terms: \n",
    "A closure is an inner function that remembers and has access to variables in the local scope in which it was created (i.e. local scope of outer function) even after the outer function has finished executing."
   ]
  },
  {
   "cell_type": "markdown",
   "metadata": {},
   "source": [
    "## first class function"
   ]
  },
  {
   "cell_type": "code",
   "execution_count": 1,
   "metadata": {
    "ExecuteTime": {
     "end_time": "2020-09-12T23:10:36.911158Z",
     "start_time": "2020-09-12T23:10:36.904176Z"
    }
   },
   "outputs": [],
   "source": [
    "def outer_func():\n",
    "    message = \"Hi\"\n",
    "    \n",
    "    def inner_func():\n",
    "        # message is a free variable as it's not actually defined in the inner function but it still has access to it\n",
    "        print(message)\n",
    "    \n",
    "    # executing the inner function as we have given parenthesis\n",
    "    return inner_func()\n"
   ]
  },
  {
   "cell_type": "code",
   "execution_count": 2,
   "metadata": {
    "ExecuteTime": {
     "end_time": "2020-09-12T23:10:56.100833Z",
     "start_time": "2020-09-12T23:10:56.091857Z"
    }
   },
   "outputs": [
    {
     "name": "stdout",
     "output_type": "stream",
     "text": [
      "Hi\n"
     ]
    }
   ],
   "source": [
    "outer_func()"
   ]
  },
  {
   "cell_type": "markdown",
   "metadata": {},
   "source": [
    "## simple closure"
   ]
  },
  {
   "cell_type": "code",
   "execution_count": 3,
   "metadata": {
    "ExecuteTime": {
     "end_time": "2020-09-12T23:14:50.559945Z",
     "start_time": "2020-09-12T23:14:50.553962Z"
    }
   },
   "outputs": [],
   "source": [
    "def outer_func():\n",
    "    message = \"Hi\"\n",
    "    \n",
    "    def inner_func():\n",
    "        # message is a free variable as it's not actually defined in the inner function but it still has access to it\n",
    "        print(message)\n",
    "    \n",
    "    # return the function w/o executing it\n",
    "    return inner_func\n"
   ]
  },
  {
   "cell_type": "code",
   "execution_count": 4,
   "metadata": {
    "ExecuteTime": {
     "end_time": "2020-09-12T23:14:55.506520Z",
     "start_time": "2020-09-12T23:14:55.491562Z"
    }
   },
   "outputs": [
    {
     "data": {
      "text/plain": [
       "<function __main__.outer_func.<locals>.inner_func()>"
      ]
     },
     "execution_count": 4,
     "metadata": {},
     "output_type": "execute_result"
    }
   ],
   "source": [
    "outer_func()"
   ]
  },
  {
   "cell_type": "code",
   "execution_count": 7,
   "metadata": {
    "ExecuteTime": {
     "end_time": "2020-09-12T23:17:42.608655Z",
     "start_time": "2020-09-12T23:17:42.601673Z"
    }
   },
   "outputs": [
    {
     "name": "stdout",
     "output_type": "stream",
     "text": [
      "<function outer_func.<locals>.inner_func at 0x000001F32BBE8730>\n",
      "inner_func\n",
      "Hi\n",
      "Hi\n"
     ]
    }
   ],
   "source": [
    "# my_func is actually equivalent to inner_func\n",
    "my_func = outer_func()\n",
    "\n",
    "print(my_func)\n",
    "print(my_func.__name__)\n",
    "\n",
    "# calling the inner function\n",
    "my_func()\n",
    "my_func()"
   ]
  },
  {
   "cell_type": "markdown",
   "metadata": {},
   "source": [
    "Above, we can see that even after we had finished executing outer_func(), my_func still has access to the variable. This is what we mean by Closure.\n",
    "\n",
    "A Closure closes over the free variables from their environment."
   ]
  },
  {
   "cell_type": "markdown",
   "metadata": {},
   "source": [
    "## closure with params"
   ]
  },
  {
   "cell_type": "code",
   "execution_count": 8,
   "metadata": {
    "ExecuteTime": {
     "end_time": "2020-09-12T23:23:45.766195Z",
     "start_time": "2020-09-12T23:23:45.762206Z"
    }
   },
   "outputs": [],
   "source": [
    "def outer_func(msg):\n",
    "    message = msg\n",
    "    \n",
    "    def inner_func():\n",
    "        # message is a free variable as it's not actually defined in the inner function but it still has access to it\n",
    "        print(message)\n",
    "    \n",
    "    # return the function w/o executing it\n",
    "    return inner_func\n"
   ]
  },
  {
   "cell_type": "code",
   "execution_count": 10,
   "metadata": {
    "ExecuteTime": {
     "end_time": "2020-09-12T23:24:34.771103Z",
     "start_time": "2020-09-12T23:24:34.765857Z"
    }
   },
   "outputs": [
    {
     "name": "stdout",
     "output_type": "stream",
     "text": [
      "inner_func\n",
      "inner_func\n"
     ]
    }
   ],
   "source": [
    "hi_func = outer_func('hi')\n",
    "bye_func = outer_func('hello')\n",
    "\n",
    "print(hi_func.__name__)\n",
    "print(bye_func.__name__)"
   ]
  },
  {
   "cell_type": "code",
   "execution_count": 12,
   "metadata": {
    "ExecuteTime": {
     "end_time": "2020-09-12T23:26:23.333032Z",
     "start_time": "2020-09-12T23:26:23.328049Z"
    }
   },
   "outputs": [
    {
     "name": "stdout",
     "output_type": "stream",
     "text": [
      "hi\n",
      "hello\n"
     ]
    }
   ],
   "source": [
    "# again both function remember their the respective value of their free variable\n",
    "hi_func()\n",
    "bye_func()"
   ]
  },
  {
   "cell_type": "code",
   "execution_count": null,
   "metadata": {},
   "outputs": [],
   "source": []
  },
  {
   "cell_type": "code",
   "execution_count": null,
   "metadata": {},
   "outputs": [],
   "source": []
  },
  {
   "cell_type": "code",
   "execution_count": null,
   "metadata": {},
   "outputs": [],
   "source": []
  },
  {
   "cell_type": "code",
   "execution_count": null,
   "metadata": {},
   "outputs": [],
   "source": []
  },
  {
   "cell_type": "code",
   "execution_count": null,
   "metadata": {},
   "outputs": [],
   "source": []
  },
  {
   "cell_type": "code",
   "execution_count": null,
   "metadata": {},
   "outputs": [],
   "source": []
  },
  {
   "cell_type": "code",
   "execution_count": null,
   "metadata": {},
   "outputs": [],
   "source": []
  },
  {
   "cell_type": "code",
   "execution_count": null,
   "metadata": {},
   "outputs": [],
   "source": []
  },
  {
   "cell_type": "code",
   "execution_count": null,
   "metadata": {},
   "outputs": [],
   "source": []
  },
  {
   "cell_type": "code",
   "execution_count": null,
   "metadata": {},
   "outputs": [],
   "source": []
  },
  {
   "cell_type": "code",
   "execution_count": null,
   "metadata": {},
   "outputs": [],
   "source": []
  }
 ],
 "metadata": {
  "kernelspec": {
   "display_name": "Python 3",
   "language": "python",
   "name": "python3"
  },
  "language_info": {
   "codemirror_mode": {
    "name": "ipython",
    "version": 3
   },
   "file_extension": ".py",
   "mimetype": "text/x-python",
   "name": "python",
   "nbconvert_exporter": "python",
   "pygments_lexer": "ipython3",
   "version": "3.7.3"
  },
  "toc": {
   "base_numbering": 1,
   "nav_menu": {},
   "number_sections": true,
   "sideBar": true,
   "skip_h1_title": false,
   "title_cell": "Table of Contents",
   "title_sidebar": "ToC",
   "toc_cell": true,
   "toc_position": {
    "height": "calc(100% - 180px)",
    "left": "10px",
    "top": "150px",
    "width": "165px"
   },
   "toc_section_display": true,
   "toc_window_display": true
  }
 },
 "nbformat": 4,
 "nbformat_minor": 2
}
